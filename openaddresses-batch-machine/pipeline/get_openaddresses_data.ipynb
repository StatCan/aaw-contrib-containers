{
 "cells": [
  {
   "cell_type": "markdown",
   "metadata": {},
   "source": [
    "# Summary\n",
    "\n",
    "Uses the OpenAddresses tooling to \n",
    "\n",
    "* download data based on a user-defined JSON source specification\n",
    "* save the data in a user-defined location in MinIO\n",
    "\n",
    "Usage: \n",
    "\n",
    "* Edit the below settings and run notebook"
   ]
  },
  {
   "cell_type": "code",
   "execution_count": null,
   "metadata": {},
   "outputs": [],
   "source": [
    "import json\n",
    "\n",
    "import kfp\n",
    "from kfp.components import load_component_from_file\n",
    "from kfp import dsl"
   ]
  },
  {
   "cell_type": "markdown",
   "metadata": {},
   "source": [
    "# User settings:"
   ]
  },
  {
   "cell_type": "code",
   "execution_count": null,
   "metadata": {},
   "outputs": [],
   "source": [
    "minio_bucket_name = 'FIRSTNAME-LASTNAME'\n",
    "json_source_file = \"myfile.json\"\n",
    "minio_tenant = 'minimal'\n",
    "openaddresses_args = \"--layer addresses --layersource city\"\n",
    "minio_output_uri = f'{minio_bucket_name}/path/to/storage/location'"
   ]
  },
  {
   "cell_type": "markdown",
   "metadata": {},
   "source": [
    "# Additional Inputs for Debugging/Testing:\n",
    "\n",
    "If testing/debugging, you can use the following demo JSON file.  \n",
    "\n",
    "You can also use this method to write your own JSON file from the notebook if that makes sense for your workflow. "
   ]
  },
  {
   "cell_type": "code",
   "execution_count": null,
   "metadata": {},
   "outputs": [],
   "source": [
    "# %%writefile $json_source_file\n",
    "# {\n",
    "#     \"coverage\": {\n",
    "#         \"country\": \"ca\",\n",
    "#         \"state\": \"ab\",\n",
    "#         \"city\": \"Calgary\",\n",
    "#         \"geometry\": {\n",
    "#             \"type\": \"Point\",\n",
    "#             \"coordinates\": [\n",
    "#                 -114.08,\n",
    "#                 51.08\n",
    "#             ]\n",
    "#         }\n",
    "#     },\n",
    "#     \"schema\": 2,\n",
    "#     \"layers\": {\n",
    "#         \"addresses\": [\n",
    "#             {\n",
    "#                 \"name\": \"city\",\n",
    "#                 \"data\": \"https://data.calgary.ca/api/views/uwj2-d2wc/rows.csv?accessType=DOWNLOAD\",\n",
    "#                 \"website\": \"https://data.calgary.ca/\",\n",
    "#                 \"license\": {\n",
    "#                     \"url\": \"https://data.calgary.ca/stories/s/Open-Calgary-Terms-of-Use/u45n-7awa\",\n",
    "#                     \"text\": \"Contains information licensed under the Open Government Licence – City of Calgary.\",\n",
    "#                     \"attribution name\": \"City of Calgary\"\n",
    "#                 },\n",
    "#                 \"protocol\": \"http\",\n",
    "#                 \"conform\": {\n",
    "#                     \"format\": \"csv\",\n",
    "#                     \"lat\": \"latitude\",\n",
    "#                     \"lon\": \"longitude\",\n",
    "#                     \"number\": {\n",
    "#                         \"function\": \"join\",\n",
    "#                         \"fields\": [\n",
    "#                             \"HOUSE_NUMBER\",\n",
    "#                             \"HOUSE_ALPHA\"\n",
    "#                         ],\n",
    "#                         \"separator\": \"\"\n",
    "#                     },\n",
    "#                     \"street\": [\n",
    "#                         \"STREET_NAME\",\n",
    "#                         \"STREET_TYPE\",\n",
    "#                         \"STREET_QUAD\"\n",
    "#                     ],\n",
    "#                     \"str_name\": \"STREET_NAME\",\n",
    "#                     \"str_type\": \"STREET_TYPE\",\n",
    "#                     \"str_dir\": \"STREET_QUAD\",\n",
    "#                     \"full_addr\": \"ADDRESS\"\n",
    "#                 },\n",
    "#                 \"attribution\": \"City of Calgary\"\n",
    "#             }\n",
    "#         ]\n",
    "#     }\n",
    "# }"
   ]
  },
  {
   "cell_type": "markdown",
   "metadata": {},
   "source": [
    "# Component/Pipeline definitions"
   ]
  },
  {
   "cell_type": "code",
   "execution_count": null,
   "metadata": {},
   "outputs": [],
   "source": [
    "openaddresses_get_op = load_component_from_file(\n",
    "    \"./components/openaddresses_get_data.yaml\"\n",
    ")\n",
    "copy_to_minio_op = load_component_from_file(\n",
    "    \"./components/copy_to_minio.yaml\"\n",
    ")"
   ]
  },
  {
   "cell_type": "code",
   "execution_count": null,
   "metadata": {},
   "outputs": [],
   "source": [
    "@dsl.pipeline(\n",
    "    name=\"Download OpenAddresses Data to Minio\"\n",
    ")\n",
    "def pipeline(\n",
    "    source_json,\n",
    "    minio_output_uri: str,\n",
    "    # TODO: Handle these automatically once multitenancy is available\n",
    "    minio_url,\n",
    "    minio_access_key: str,\n",
    "    minio_secret_key: str,\n",
    "    openaddresses_args: str = \"\",\n",
    "):\n",
    "    operations = {}\n",
    "\n",
    "    operations['Get Data'] = openaddresses_get_op(\n",
    "        source_json=source_json,\n",
    "        args=openaddresses_args,\n",
    "    ).set_image_pull_policy(\"Always\")\n",
    "\n",
    "    operations['Store Data'] = copy_to_minio_op(\n",
    "        local_source=operations['Get Data'].outputs['data'],\n",
    "        minio_destination=minio_output_uri,\n",
    "        minio_url=minio_url,\n",
    "        minio_access_key=minio_access_key,\n",
    "        minio_secret_key=minio_secret_key,\n",
    "        flags=\"--recursive\",  # Because outputs['data'] is a directory\n",
    "    )\n",
    "    # Set all operations display names to their key in the operations dict\n",
    "    for name, op in operations.items():\n",
    "        op.set_display_name(name)"
   ]
  },
  {
   "cell_type": "markdown",
   "metadata": {},
   "source": [
    "# Build pipeline arguments"
   ]
  },
  {
   "cell_type": "markdown",
   "metadata": {},
   "source": [
    "## Load the JSON source file"
   ]
  },
  {
   "cell_type": "code",
   "execution_count": null,
   "metadata": {},
   "outputs": [],
   "source": [
    "with open(json_source_file, 'r') as fin:\n",
    "    source_json = json.load(fin)"
   ]
  },
  {
   "cell_type": "markdown",
   "metadata": {
    "execution": {
     "iopub.execute_input": "2020-10-21T18:02:22.261643Z",
     "iopub.status.busy": "2020-10-21T18:02:22.261379Z",
     "iopub.status.idle": "2020-10-21T18:02:22.264434Z",
     "shell.execute_reply": "2020-10-21T18:02:22.263870Z",
     "shell.execute_reply.started": "2020-10-21T18:02:22.261618Z"
    }
   },
   "source": [
    "## Get MinIO credentials from the Notebook Server (could also specify these things manually)"
   ]
  },
  {
   "cell_type": "code",
   "execution_count": null,
   "metadata": {},
   "outputs": [],
   "source": [
    "# Get minio credentials using a helper\n",
    "from utilities import get_minio_credentials\n",
    "\n",
    "minio_settings = get_minio_credentials(minio_tenant, strip_http=False)\n",
    "minio_url = minio_settings[\"url\"]\n",
    "minio_access_key = minio_settings[\"access_key\"]\n",
    "minio_secret_key = minio_settings[\"secret_key\"]\n",
    "\n",
    "arguments = dict(\n",
    "    source_json=json.dumps(source_json),\n",
    "    openaddresses_args=openaddresses_args,\n",
    "    minio_output_uri=minio_output_uri,\n",
    "    minio_url=minio_url,\n",
    "    minio_access_key=minio_access_key,\n",
    "    minio_secret_key=minio_secret_key,\n",
    ")"
   ]
  },
  {
   "cell_type": "markdown",
   "metadata": {},
   "source": [
    "# Run the pipeline"
   ]
  },
  {
   "cell_type": "code",
   "execution_count": null,
   "metadata": {},
   "outputs": [],
   "source": [
    "pipeline_run = kfp.Client().create_run_from_pipeline_func(\n",
    "    pipeline,\n",
    "    arguments=arguments,\n",
    "    run_name=\"openaddresses-get-store-data\"\n",
    ")"
   ]
  }
 ],
 "metadata": {
  "kernelspec": {
   "display_name": "Python 3",
   "language": "python",
   "name": "python3"
  },
  "language_info": {
   "codemirror_mode": {
    "name": "ipython",
    "version": 3
   },
   "file_extension": ".py",
   "mimetype": "text/x-python",
   "name": "python",
   "nbconvert_exporter": "python",
   "pygments_lexer": "ipython3",
   "version": "3.7.6"
  }
 },
 "nbformat": 4,
 "nbformat_minor": 4
}
